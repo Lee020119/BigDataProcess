{
  "nbformat": 4,
  "nbformat_minor": 0,
  "metadata": {
    "colab": {
      "provenance": []
    },
    "kernelspec": {
      "name": "python3",
      "display_name": "Python 3"
    },
    "language_info": {
      "name": "python"
    }
  },
  "cells": [
    {
      "cell_type": "code",
      "execution_count": null,
      "metadata": {
        "colab": {
          "base_uri": "https://localhost:8080/"
        },
        "id": "f9Nu4dMMoMIQ",
        "outputId": "a2eca266-c988-450e-8892-5b5847a50590"
      },
      "outputs": [
        {
          "output_type": "stream",
          "name": "stdout",
          "text": [
            "total =  5050\n"
          ]
        }
      ],
      "source": [
        "i = 1\n",
        "total = 0\n",
        "while i <= 100:\n",
        "  total += i\n",
        "  i += 1\n",
        "print('total = ',total)"
      ]
    },
    {
      "cell_type": "code",
      "source": [
        "i = 2\n",
        "total = 0\n",
        "while i <= 100:\n",
        "  total += i\n",
        "  i += 1\n",
        "print('total = ',total)"
      ],
      "metadata": {
        "colab": {
          "base_uri": "https://localhost:8080/"
        },
        "id": "OADotjpdolLA",
        "outputId": "f0cada90-9396-4136-db0f-6a7e7b7dd87d"
      },
      "execution_count": null,
      "outputs": [
        {
          "output_type": "stream",
          "name": "stdout",
          "text": [
            "total =  5049\n"
          ]
        }
      ]
    },
    {
      "cell_type": "code",
      "source": [
        "i = 1\n",
        "total = 0\n",
        "while i < 100:\n",
        "  total += i\n",
        "  i += 1\n",
        "print('total = ',total)"
      ],
      "metadata": {
        "colab": {
          "base_uri": "https://localhost:8080/"
        },
        "id": "umnOPPkeoqJx",
        "outputId": "a7b217d6-0c54-4c2c-df70-e82e02a0b729"
      },
      "execution_count": null,
      "outputs": [
        {
          "output_type": "stream",
          "name": "stdout",
          "text": [
            "total =  4950\n"
          ]
        }
      ]
    },
    {
      "cell_type": "code",
      "source": [
        "i = 1\n",
        "total = 0\n",
        "while i <= 100:\n",
        "  total += i\n",
        "  i += 2\n",
        "print('total = ',total)"
      ],
      "metadata": {
        "colab": {
          "base_uri": "https://localhost:8080/"
        },
        "id": "Gb8OLOINotzB",
        "outputId": "2b7a2e1a-bd13-48ed-9b86-62f39093c871"
      },
      "execution_count": null,
      "outputs": [
        {
          "output_type": "stream",
          "name": "stdout",
          "text": [
            "total =  2500\n"
          ]
        }
      ]
    },
    {
      "cell_type": "code",
      "source": [
        "total = 0\n",
        "for i in range(1,101):\n",
        "  total += i\n",
        "print('total = ',total)"
      ],
      "metadata": {
        "colab": {
          "base_uri": "https://localhost:8080/"
        },
        "id": "OMUb3484oxIo",
        "outputId": "ed9dd1c1-5362-43ba-b94e-f95e2e14a973"
      },
      "execution_count": null,
      "outputs": [
        {
          "output_type": "stream",
          "name": "stdout",
          "text": [
            "total =  5050\n"
          ]
        }
      ]
    },
    {
      "cell_type": "code",
      "source": [
        "total = 0\n",
        "for i in range(2,101):\n",
        "  total += i\n",
        "print('total = ',total)"
      ],
      "metadata": {
        "colab": {
          "base_uri": "https://localhost:8080/"
        },
        "id": "CqIznEb8o6M7",
        "outputId": "77b0c93b-9f6d-4640-c6ef-feffa533c50d"
      },
      "execution_count": null,
      "outputs": [
        {
          "output_type": "stream",
          "name": "stdout",
          "text": [
            "total =  5049\n"
          ]
        }
      ]
    }
  ]
}