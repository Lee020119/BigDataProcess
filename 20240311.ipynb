{
  "cells": [
    {
      "cell_type": "code",
      "execution_count": null,
      "metadata": {
        "colab": {
          "base_uri": "https://localhost:8080/"
        },
        "id": "KOC4MExknp6y",
        "outputId": "4215d498-275c-44a3-d0e7-3f086bc6ad6d"
      },
      "outputs": [
        {
          "name": "stdout",
          "output_type": "stream",
          "text": [
            "Enter a number:-12\n",
            "-12 is less than 0\n",
            "Over\n"
          ]
        }
      ],
      "source": [
        "a = eval(input('Enter a number:'))\n",
        "if a > 0:\n",
        "  print(a, 'is greater than 0')\n",
        "else:\n",
        "  print(a, 'is less than 0')\n",
        "print('Over')"
      ]
    },
    {
      "cell_type": "code",
      "execution_count": null,
      "metadata": {
        "colab": {
          "base_uri": "https://localhost:8080/"
        },
        "id": "d1ollKIko1FK",
        "outputId": "b64fadd7-0bdf-4d36-de65-f41b977a35fe"
      },
      "outputs": [
        {
          "name": "stdout",
          "output_type": "stream",
          "text": [
            "-12 is less than 0\n",
            "Over\n"
          ]
        }
      ],
      "source": [
        "if a> 0:\n",
        "  print(a,'is graeter than 0')\n",
        "elif a < 0:\n",
        "  print(a,'is less than 0')\n",
        "else:\n",
        "  print(a,'is equal to 0')\n",
        "print('Over')"
      ]
    },
    {
      "cell_type": "code",
      "execution_count": null,
      "metadata": {
        "colab": {
          "base_uri": "https://localhost:8080/"
        },
        "id": "Va3J9yKxpNGs",
        "outputId": "9767168a-2fe8-4dea-c645-00c9b26c7031"
      },
      "outputs": [
        {
          "name": "stdout",
          "output_type": "stream",
          "text": [
            "Enter a, b, c:1,2,3\n",
            "No solution\n",
            "Over\n"
          ]
        }
      ],
      "source": [
        "a, b, c =eval(input('Enter a, b, c:'))\n",
        "d = b*b - 4*a*c\n",
        "\n",
        "if d > 0:\n",
        "  print('Has two different solutions')\n",
        "elif d == 0:\n",
        "  print('Has one solution')\n",
        "else:\n",
        "  print('No solution')\n",
        "print('Over')"
      ]
    },
    {
      "cell_type": "code",
      "execution_count": null,
      "metadata": {
        "colab": {
          "base_uri": "https://localhost:8080/"
        },
        "id": "oEq1wjTlp26V",
        "outputId": "2d82a941-6709-4e96-8728-052b36d65e6a"
      },
      "outputs": [
        {
          "name": "stdout",
          "output_type": "stream",
          "text": [
            "Enter height in centimeters:170\n",
            "Enter weight in kilograms:60\n",
            "Your BMI is  20.76\n",
            "Normal\n"
          ]
        }
      ],
      "source": [
        "height = eval(input('Enter height in centimeters:'))\n",
        "weight = eval(input('Enter weight in kilograms:'))\n",
        "\n",
        "bmi = weight / (height/100) ** 2\n",
        "print('Your BMI is %6.2f'%(bmi))\n",
        "\n",
        "if bmi < 18.5:\n",
        "  print('Underweight')\n",
        "elif bmi < 25.0:\n",
        "  print('Normal')\n",
        "elif bmi < 30:\n",
        "  print('Overweight')\n",
        "else:\n",
        "  print('Obese')"
      ]
    },
    {
      "cell_type": "code",
      "execution_count": null,
      "metadata": {
        "colab": {
          "base_uri": "https://localhost:8080/"
        },
        "id": "SSZZFgYm7Z1h",
        "outputId": "5a88958e-e23f-45d7-97a2-1c72daee5888"
      },
      "outputs": [
        {
          "name": "stdout",
          "output_type": "stream",
          "text": [
            "Enter a number:88\n",
            "88 is in the between 85 and 95\n"
          ]
        }
      ],
      "source": [
        "num = eval(input('Enter a number:'))\n",
        "if(85 <= num) and (num<=95):\n",
        "  print('%d is in the between 85 and 95'%(num))\n",
        "else :\n",
        "  print('%d is not in the between 85 and 95'%(num))\n",
        "\n",
        "  print('Over')"
      ]
    }
  ],
  "metadata": {
    "colab": {
      "provenance": []
    },
    "kernelspec": {
      "display_name": "Python 3",
      "name": "python3"
    },
    "language_info": {
      "name": "python"
    }
  },
  "nbformat": 4,
  "nbformat_minor": 0
}
