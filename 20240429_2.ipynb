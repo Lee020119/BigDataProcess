{
  "nbformat": 4,
  "nbformat_minor": 0,
  "metadata": {
    "colab": {
      "provenance": []
    },
    "kernelspec": {
      "name": "python3",
      "display_name": "Python 3"
    },
    "language_info": {
      "name": "python"
    }
  },
  "cells": [
    {
      "cell_type": "code",
      "source": [
        "import random\n",
        "count = 1\n",
        "for i in range(1,101):\n",
        "  randNum = random.randint(1,100)\n",
        "  if count % 10 != 0:\n",
        "    print('%5d'%(randNum),end =' ')\n",
        "  else:\n",
        "    print('%5d'%(randNum))\n",
        "  count += 1"
      ],
      "metadata": {
        "id": "ThkhZW2MYofw",
        "colab": {
          "base_uri": "https://localhost:8080/"
        },
        "outputId": "74345d46-596b-4b1f-a584-ebe7a2bd50a6"
      },
      "execution_count": 2,
      "outputs": [
        {
          "output_type": "stream",
          "name": "stdout",
          "text": [
            "   95    84    79    80    78    15    79    20    67    53\n",
            "   27    58    44    36    54    11    62    69     2    10\n",
            "   14    10     8    70    75    85    36    95    67    32\n",
            "   87    96    98    29     4     1    49     1    65    19\n",
            "   87     2    62    95    71     7    34    55    48    13\n",
            "   90    28    61    71    85    97    65    85    11    96\n",
            "    9    60    67    52    95    49     4    74    20    44\n",
            "    7     5    51    57    27    60    78    46    37    37\n",
            "    3    71     4    80    72    98    32    74    31    12\n",
            "   21     5    86    65    82    75    37    55    55    71\n"
          ]
        }
      ]
    },
    {
      "cell_type": "code",
      "source": [
        "import random\n",
        "count = 1\n",
        "while count <= 12:\n",
        "  for i in range(1,6):\n",
        "    randNum = random.randint(1,49)\n",
        "    print('%3d'%(randNum),end =' ')\n",
        "  print()\n",
        "  count += 1\n",
        "print('Over')"
      ],
      "metadata": {
        "colab": {
          "base_uri": "https://localhost:8080/"
        },
        "id": "S0zUKP2bZMD4",
        "outputId": "08c56fc3-32ed-4597-b6b9-c441c5357370"
      },
      "execution_count": 11,
      "outputs": [
        {
          "output_type": "stream",
          "name": "stdout",
          "text": [
            " 15  12   1  37   3 \n",
            " 46   2  46  49  29 \n",
            " 45  30  16  10  37 \n",
            " 41  36  36  26   5 \n",
            " 27   7   1  46  11 \n",
            " 12   9  18   2  15 \n",
            " 41  24  47  17  26 \n",
            " 16   5  42  48  45 \n",
            " 34   3  34  30  38 \n",
            "  7   4  13  29   2 \n",
            " 11  26  17  31  10 \n",
            "  8  45  28  32  27 \n",
            "Over\n"
          ]
        }
      ]
    },
    {
      "cell_type": "code",
      "source": [
        "import random\n",
        "again = 1\n",
        "while again == 1:\n",
        "  for i in range(1,7):\n",
        "    randNum = random.randint(1,49)\n",
        "    print('%3d'%(randNum),end = ' ')\n",
        "  print()\n",
        "  again = eval(input('continue:1 or quit:0 ---->'))\n",
        "print('Over')"
      ],
      "metadata": {
        "colab": {
          "base_uri": "https://localhost:8080/"
        },
        "id": "7a-RcRGjdkv_",
        "outputId": "48a4dbaf-4244-4b02-8a0e-59ef9c697d25"
      },
      "execution_count": 13,
      "outputs": [
        {
          "output_type": "stream",
          "name": "stdout",
          "text": [
            " 48  47  24  48  39  22 \n",
            "continue:1 or quit:0 ---->1\n",
            " 15  10  48  31  41  26 \n",
            "continue:1 or quit:0 ---->1\n",
            " 30  15  26  34  19  43 \n",
            "continue:1 or quit:0 ---->1\n",
            "  3  48  22  45  34  13 \n",
            "continue:1 or quit:0 ---->1\n",
            " 33  27  44  39  23  44 \n",
            "continue:1 or quit:0 ---->0\n",
            "Over\n"
          ]
        }
      ]
    }
  ]
}