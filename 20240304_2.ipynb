{
  "nbformat": 4,
  "nbformat_minor": 0,
  "metadata": {
    "colab": {
      "provenance": []
    },
    "kernelspec": {
      "name": "python3",
      "display_name": "Python 3"
    },
    "language_info": {
      "name": "python"
    }
  },
  "cells": [
    {
      "cell_type": "code",
      "execution_count": null,
      "metadata": {
        "colab": {
          "base_uri": "https://localhost:8080/"
        },
        "id": "KRg3Xbv7Asfc",
        "outputId": "4e33771d-7dd7-4d25-eb8f-3a1b2da49b36"
      },
      "outputs": [
        {
          "output_type": "stream",
          "name": "stdout",
          "text": [
            "華氏溫度     212.00 等於攝氏溫度     100.00\n"
          ]
        }
      ],
      "source": [
        "F = 212\n",
        "C = (F - 32) * 5 / 9\n",
        "print('華氏溫度',(format(F,'10.2f')),'等於攝氏溫度',(format(C,'10.2f')))"
      ]
    },
    {
      "cell_type": "code",
      "source": [],
      "metadata": {
        "id": "y2MSRO7PPV9u"
      },
      "execution_count": null,
      "outputs": []
    },
    {
      "cell_type": "code",
      "source": [
        "import math\n",
        "r = 5.5\n",
        "s = 2 * r * math.sin(math.pi / 5)\n",
        "area =(5*s**2) / (4*math.tan(math.pi/5))\n",
        "area2 = round(area,2)\n",
        "\n",
        "print('Area is',area2)"
      ],
      "metadata": {
        "colab": {
          "base_uri": "https://localhost:8080/"
        },
        "id": "IHcLfd10F86t",
        "outputId": "f3b33edf-d2a4-4ba9-b516-d1ecf4b736b2"
      },
      "execution_count": null,
      "outputs": [
        {
          "output_type": "stream",
          "name": "stdout",
          "text": [
            "Area is 71.92\n"
          ]
        }
      ]
    },
    {
      "cell_type": "code",
      "source": [
        "a =4.3\n",
        "v = 70\n",
        "\n",
        "length = v**2 / (2 * a)\n",
        "result =round(length,2)\n",
        "\n",
        "print(result)"
      ],
      "metadata": {
        "colab": {
          "base_uri": "https://localhost:8080/"
        },
        "id": "hA39G9yOHgB5",
        "outputId": "d0f0987d-a3d0-47bd-d280-9c86ca97db58"
      },
      "execution_count": null,
      "outputs": [
        {
          "output_type": "stream",
          "name": "stdout",
          "text": [
            "569.77\n"
          ]
        }
      ]
    },
    {
      "cell_type": "code",
      "source": [
        "M = 10\n",
        "finalT = 100\n",
        "initialT = 12\n",
        "\n",
        "Q = M * (finalT - initialT) * 4184\n",
        "\n",
        "\n",
        "print(format(Q,'10.2f'))"
      ],
      "metadata": {
        "colab": {
          "base_uri": "https://localhost:8080/"
        },
        "id": "gzPsEK0aObo8",
        "outputId": "65692fe0-2599-4093-8d26-564d76e2e428"
      },
      "execution_count": null,
      "outputs": [
        {
          "output_type": "stream",
          "name": "stdout",
          "text": [
            "3681920.00\n"
          ]
        }
      ]
    },
    {
      "cell_type": "code",
      "source": [
        "import math\n",
        "r = 6.5\n",
        "height = 10\n",
        "area =math.pi*r**2\n",
        "volume = area * height\n",
        "\n",
        "area2 = round(area, 2)\n",
        "volume2 = round(volume, 2)\n",
        "print('area:',area2,'volume:',volume2)"
      ],
      "metadata": {
        "colab": {
          "base_uri": "https://localhost:8080/"
        },
        "id": "XT4HFZC2PesA",
        "outputId": "1161d178-99cb-42c4-d1a4-0614f2200b02"
      },
      "execution_count": null,
      "outputs": [
        {
          "output_type": "stream",
          "name": "stdout",
          "text": [
            "area: 132.73 volume: 1327.32\n"
          ]
        }
      ]
    }
  ]
}