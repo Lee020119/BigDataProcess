{
  "nbformat": 4,
  "nbformat_minor": 0,
  "metadata": {
    "colab": {
      "provenance": []
    },
    "kernelspec": {
      "name": "python3",
      "display_name": "Python 3"
    },
    "language_info": {
      "name": "python"
    }
  },
  "cells": [
    {
      "cell_type": "code",
      "execution_count": 1,
      "metadata": {
        "colab": {
          "base_uri": "https://localhost:8080/"
        },
        "id": "WJsp-_ACextb",
        "outputId": "0394d0e8-fec5-4fc2-ca21-27b07c28fee8"
      },
      "outputs": [
        {
          "output_type": "stream",
          "name": "stdout",
          "text": [
            "********************\n",
            "******************************\n",
            "**************************************************\n"
          ]
        }
      ],
      "source": [
        "for i in range(1,21):\n",
        "  print('*', end = '')\n",
        "print()\n",
        "\n",
        "for i in range(1,31):\n",
        "  print('*', end = '')\n",
        "print()\n",
        "\n",
        "for i in range(1,51):\n",
        "  print('*', end = '')\n",
        "print()"
      ]
    },
    {
      "cell_type": "code",
      "source": [
        "def printStar(n):\n",
        "  for i in range(1, n+1):\n",
        "    print('*', end ='')\n",
        "  print()\n",
        "\n",
        "def main():\n",
        "  printStar(20)\n",
        "  printStar(30)\n",
        "  printStar(50)\n",
        "\n",
        "main()"
      ],
      "metadata": {
        "colab": {
          "base_uri": "https://localhost:8080/"
        },
        "id": "8DP41yl3fK4T",
        "outputId": "4d8efe19-601b-4f81-d0c5-e0b1cdca3283"
      },
      "execution_count": 2,
      "outputs": [
        {
          "output_type": "stream",
          "name": "stdout",
          "text": [
            "********************\n",
            "******************************\n",
            "**************************************************\n"
          ]
        }
      ]
    },
    {
      "cell_type": "code",
      "source": [
        "def total():\n",
        "  sum = 0\n",
        "  for i in range(1, 101):\n",
        "    sum += i\n",
        "  print('summation of 1 to 100:', sum)\n",
        "\n",
        "def main():\n",
        "  total()\n",
        "\n",
        "main()"
      ],
      "metadata": {
        "colab": {
          "base_uri": "https://localhost:8080/"
        },
        "id": "x2E_HHfyfgvx",
        "outputId": "864b420f-7c8d-42a8-f37a-ad4b9316bc94"
      },
      "execution_count": 3,
      "outputs": [
        {
          "output_type": "stream",
          "name": "stdout",
          "text": [
            "summation of 1 to 100: 5050\n"
          ]
        }
      ]
    },
    {
      "cell_type": "code",
      "source": [
        "def total():\n",
        "  sum = 0\n",
        "  for i in range(1, 101):\n",
        "    sum += i\n",
        "  return sum\n",
        "\n",
        "def main():\n",
        "  t = total()\n",
        "  print('summation of 1 to 100:', t)\n",
        "\n",
        "main()"
      ],
      "metadata": {
        "colab": {
          "base_uri": "https://localhost:8080/"
        },
        "id": "nhfUtr6hfzyB",
        "outputId": "6b15dcd8-929c-4510-d3be-ddebf7c91640"
      },
      "execution_count": 4,
      "outputs": [
        {
          "output_type": "stream",
          "name": "stdout",
          "text": [
            "summation of 1 to 100: 5050\n"
          ]
        }
      ]
    },
    {
      "cell_type": "code",
      "source": [
        "def total(a,b):\n",
        "  sum = 0\n",
        "  for i in range(a, b+1):\n",
        "    sum += i\n",
        "  return sum\n",
        "\n",
        "def main():\n",
        "  x = eval(input('Enter Start Number:'))\n",
        "  y = eval(input('Enter End Number:'))\n",
        "  t = total(x,y)\n",
        "  print('summation of %d to %d: %d'%(x,y,t))\n",
        "\n",
        "main()"
      ],
      "metadata": {
        "colab": {
          "base_uri": "https://localhost:8080/"
        },
        "id": "RVZl1dXAiAML",
        "outputId": "699da422-ed5f-4b69-f908-85dfe1024ad3"
      },
      "execution_count": 6,
      "outputs": [
        {
          "output_type": "stream",
          "name": "stdout",
          "text": [
            "Enter Start Number:1\n",
            "Enter End Number:101\n",
            "summation of 1 to 101: 5151\n"
          ]
        }
      ]
    }
  ]
}