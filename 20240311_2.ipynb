{
  "nbformat": 4,
  "nbformat_minor": 0,
  "metadata": {
    "colab": {
      "provenance": []
    },
    "kernelspec": {
      "name": "python3",
      "display_name": "Python 3"
    },
    "language_info": {
      "name": "python"
    }
  },
  "cells": [
    {
      "cell_type": "code",
      "execution_count": null,
      "metadata": {
        "colab": {
          "base_uri": "https://localhost:8080/"
        },
        "id": "aJdSPCjxIZDV",
        "outputId": "7e0be55c-ab3d-45a0-9297-1dde0c2397e9"
      },
      "outputs": [
        {
          "output_type": "stream",
          "name": "stdout",
          "text": [
            "21\n",
            "21 is not an even number.\n"
          ]
        }
      ],
      "source": [
        "a = int(input())\n",
        "\n",
        "if a%2 == 0:\n",
        "  print(\"%d is an even number.\"% a)\n",
        "else:\n",
        "  print(\"%d is not an even number.\" % a)"
      ]
    },
    {
      "cell_type": "code",
      "source": [
        "a = int(input())\n",
        "\n",
        "if(a%3 == 0) and (a%5 == 0):\n",
        "  print('%d is a multiple of 3 and 5.' % a)\n",
        "elif a%3 == 0:\n",
        "  print('%d is a multiple of 3.' % a)\n",
        "elif a%5 == 0:\n",
        "  print('%d is a multiple of 5.' % a)\n",
        "else:\n",
        "  print('%d is a multiple of 3 and 5.' % a)"
      ],
      "metadata": {
        "colab": {
          "base_uri": "https://localhost:8080/"
        },
        "id": "W2vzMFsGKYS8",
        "outputId": "56de991f-53f9-4200-e250-92287f374ac3"
      },
      "execution_count": null,
      "outputs": [
        {
          "output_type": "stream",
          "name": "stdout",
          "text": [
            "99\n",
            "99 is a multiple of 3.\n"
          ]
        }
      ]
    },
    {
      "cell_type": "code",
      "source": [
        "year = int(input())\n",
        "\n",
        "if year%400==0 or (year%4==0 and year%100!=0):\n",
        "  print(year,'is a leap year.')\n",
        "else:\n",
        "  print(year,'is not a leap year')"
      ],
      "metadata": {
        "colab": {
          "base_uri": "https://localhost:8080/"
        },
        "id": "23TfaWO4JAro",
        "outputId": "f1fb401c-727a-4a97-b2ce-706f492cc70f"
      },
      "execution_count": null,
      "outputs": [
        {
          "output_type": "stream",
          "name": "stdout",
          "text": [
            "2010\n",
            "2010 is not a leap year\n"
          ]
        }
      ]
    },
    {
      "cell_type": "code",
      "source": [
        "a = eval(input())\n",
        "b = eval(input())\n",
        "opr = input()\n",
        "ans = 0\n",
        "\n",
        "if opr == '+': ans = a+b\n",
        "elif opr == '-': ans =a-b\n",
        "elif opr == '*': ans =a*b\n",
        "elif opr == '/': ans =a/b\n",
        "elif opr == '//': ans =a//b\n",
        "elif opr == '%': ans =a%b\n",
        "\n",
        "print(ans)"
      ],
      "metadata": {
        "colab": {
          "base_uri": "https://localhost:8080/"
        },
        "id": "4jMEJRnAJiAp",
        "outputId": "13ef8f2f-d3c0-4c16-e8b3-b0265e05282a"
      },
      "execution_count": null,
      "outputs": [
        {
          "output_type": "stream",
          "name": "stdout",
          "text": [
            "30\n",
            "20\n",
            "*\n",
            "600\n"
          ]
        }
      ]
    },
    {
      "cell_type": "code",
      "source": [
        "c = input()\n",
        "\n",
        "if('a' <= c <= 'z') or ('A' <= c <= 'Z'):\n",
        "  print (c,'is an alphabet.')\n",
        "elif ('0' <= c <= '9'):\n",
        "  print(c,'is a number.')\n",
        "else:\n",
        "  print(c,'is a symbol.')"
      ],
      "metadata": {
        "colab": {
          "base_uri": "https://localhost:8080/"
        },
        "id": "jADqOGguLMWO",
        "outputId": "5be0a7d8-218d-4f72-b832-a862c90a931e"
      },
      "execution_count": null,
      "outputs": [
        {
          "output_type": "stream",
          "name": "stdout",
          "text": [
            "7\n",
            "7 is a number.\n"
          ]
        }
      ]
    },
    {
      "cell_type": "code",
      "source": [
        "score = eval(input())\n",
        "\n",
        "if 80 <= score <= 100:\n",
        "  grade = 'A'\n",
        "elif 70 <= score <=79:\n",
        "  grade = 'B'\n",
        "elif 60 <= score <=69:\n",
        "  grade = 'C'\n",
        "elif score <= 59:\n",
        "  grade = 'F'\n",
        "\n",
        "print(grade)"
      ],
      "metadata": {
        "colab": {
          "base_uri": "https://localhost:8080/"
        },
        "id": "JXoePJaGLzlP",
        "outputId": "b25370a5-7a75-47de-9e9d-c6433a25d4e9"
      },
      "execution_count": null,
      "outputs": [
        {
          "output_type": "stream",
          "name": "stdout",
          "text": [
            "79\n",
            "B\n"
          ]
        }
      ]
    },
    {
      "cell_type": "code",
      "source": [
        "cost =eval(input())\n",
        "\n",
        "if cost >= 38000:\n",
        "  pay = cost * 0.7\n",
        "elif cost >=28000:\n",
        "  pay = cost * 0.8\n",
        "elif cost >= 18000:\n",
        "  pay = cost * 0.9\n",
        "elif cost >= 8000:\n",
        "  pay = cost * 0.95\n",
        "\n",
        "print(pay)"
      ],
      "metadata": {
        "colab": {
          "base_uri": "https://localhost:8080/"
        },
        "id": "SVTx49JxMc8h",
        "outputId": "5b4454d0-33fd-4b04-cf95-e1763886affd"
      },
      "execution_count": null,
      "outputs": [
        {
          "output_type": "stream",
          "name": "stdout",
          "text": [
            "12000\n",
            "11400.0\n"
          ]
        }
      ]
    },
    {
      "cell_type": "code",
      "source": [
        "num = eval(input())\n",
        "\n",
        "if 0 <= num <= 9: hex_num = num\n",
        "elif num == 10: hex_num = 'A'\n",
        "elif num == 11: hex_num = 'B'\n",
        "elif num == 12: hex_num = 'C'\n",
        "elif num == 13: hex_num = 'D'\n",
        "elif num == 14: hex_num = 'E'\n",
        "elif num == 15: hex_num = 'F'\n",
        "\n",
        "print(hex_num)"
      ],
      "metadata": {
        "colab": {
          "base_uri": "https://localhost:8080/"
        },
        "id": "3Eq_6be9NA1a",
        "outputId": "16696ff0-bec3-4f08-ed82-75e6a5a62a0d"
      },
      "execution_count": null,
      "outputs": [
        {
          "output_type": "stream",
          "name": "stdout",
          "text": [
            "8\n",
            "8\n"
          ]
        }
      ]
    },
    {
      "cell_type": "code",
      "source": [
        "x = eval(input())\n",
        "y = eval(input())\n",
        "dist = ((x-5)**2 + (y-6)**2)** 0.5\n",
        "\n",
        "if dist <= 15:\n",
        "  print('Inside')\n",
        "else:\n",
        "  print('outside')"
      ],
      "metadata": {
        "colab": {
          "base_uri": "https://localhost:8080/"
        },
        "id": "7zBHzUMhNgNs",
        "outputId": "4b40f466-c86f-49dd-859a-19c2c334fac7"
      },
      "execution_count": null,
      "outputs": [
        {
          "output_type": "stream",
          "name": "stdout",
          "text": [
            "30\n",
            "35\n",
            "outside\n"
          ]
        }
      ]
    },
    {
      "cell_type": "code",
      "source": [
        "side1 = eval(input())\n",
        "side2 = eval(input())\n",
        "side3 = eval(input())\n",
        "\n",
        "if side1+side2 > side3 \\\n",
        "  and side2+side3 > side1 \\\n",
        "  and side1+side3 > side2:\n",
        "   print(side1+side2+side3)\n",
        "else:\n",
        "  print('Invalid')"
      ],
      "metadata": {
        "colab": {
          "base_uri": "https://localhost:8080/"
        },
        "id": "X7DPwX0EOARd",
        "outputId": "870e5903-723c-4569-e45f-273a22addcb5"
      },
      "execution_count": null,
      "outputs": [
        {
          "output_type": "stream",
          "name": "stdout",
          "text": [
            "1\n",
            "1\n",
            "1\n",
            "3\n"
          ]
        }
      ]
    },
    {
      "cell_type": "code",
      "source": [
        "x1, y1 = eval(input())\n",
        "if abs(x1) <= 8/2 and abs (y1) <= 6/2:\n",
        "  print('(%d, %d) is inside of the rectangle'%(x1, y1))\n",
        "else:\n",
        "  print('(%d, %d) is outside of the rectangle'%(x1, y1))"
      ],
      "metadata": {
        "colab": {
          "base_uri": "https://localhost:8080/"
        },
        "id": "OpDu5TPvOfHf",
        "outputId": "89203b4f-5f06-479c-9eaa-88219111a2c2"
      },
      "execution_count": null,
      "outputs": [
        {
          "output_type": "stream",
          "name": "stdout",
          "text": [
            "4,3\n",
            "(4, 3) is inside of the rectangle\n"
          ]
        }
      ]
    },
    {
      "cell_type": "code",
      "source": [
        "import random\n",
        "num = random.randint(1,100)\n",
        "if num % 2 == 0:\n",
        "  print('%d is even number.'%(num))\n",
        "else:\n",
        "  print('%d is odd number.'%(num))"
      ],
      "metadata": {
        "colab": {
          "base_uri": "https://localhost:8080/"
        },
        "id": "Un0ku2iCPANP",
        "outputId": "b1c9ecd2-5d20-40c6-8ea4-13e3cd4e6cc9"
      },
      "execution_count": null,
      "outputs": [
        {
          "output_type": "stream",
          "name": "stdout",
          "text": [
            "12 is even number.\n"
          ]
        }
      ]
    },
    {
      "cell_type": "code",
      "source": [
        "a, b, c = eval(input('Enter a, b, c:'))\n",
        "d, e, f = eval(input('Enter d, e, f:'))\n",
        "\n",
        "if a*e - b*d == 0:\n",
        "  if c*e - b*f == 0 and a*f - c*d == 0:\n",
        "    print('有無限多組解')\n",
        "  else:\n",
        "    print('無解')\n",
        "else:\n",
        "  x = (c*e - b*f) / (a*e - b*d)\n",
        "  y = (a*f - c*d) / (a*e - b*d)\n",
        "  print('x is %.2f, y = %.2f '%(x,y))"
      ],
      "metadata": {
        "colab": {
          "base_uri": "https://localhost:8080/"
        },
        "id": "tIE42zdVPUep",
        "outputId": "04a05564-36a6-43a6-cdd9-49d01e20d0a0"
      },
      "execution_count": null,
      "outputs": [
        {
          "output_type": "stream",
          "name": "stdout",
          "text": [
            "Enter a, b, c:9,4,-6\n",
            "Enter d, e, f:3,-5,-21\n",
            "x is -2.00, y = 3.00 \n"
          ]
        }
      ]
    },
    {
      "cell_type": "code",
      "source": [
        "number = eval(input('Enter a three-digit integer:'))\n",
        "reversedNumber = (number % 10) * 100 + (number // 10 \\\n",
        "                                        %10)* 10+ (number //100)\n",
        "\n",
        "if number == reversedNumber:\n",
        "  print(number, 'is a palindrome number.')\n",
        "else:\n",
        "  print(number,'is not a palindrome number.')"
      ],
      "metadata": {
        "colab": {
          "base_uri": "https://localhost:8080/"
        },
        "id": "OR9Eb5iFQztc",
        "outputId": "264ae5bd-18f7-4d39-fa26-1db81b4dc0cd"
      },
      "execution_count": null,
      "outputs": [
        {
          "output_type": "stream",
          "name": "stdout",
          "text": [
            "Enter a three-digit integer:122\n",
            "122 is not a palindrome number.\n"
          ]
        }
      ]
    },
    {
      "cell_type": "code",
      "source": [
        "num1, num2, num3 = eval(input('Enter three integers:'))\n",
        "if num1 > num2:\n",
        "  num1,num2 = num2,num1\n",
        "\n",
        "if num2 > num3:\n",
        "  num2,num3 = num3,num2\n",
        "\n",
        "if num1 > num2:\n",
        "  num1,num2 = num2, num1\n",
        "\n",
        "print('The sorted numbers are',num1,num2,num3)"
      ],
      "metadata": {
        "colab": {
          "base_uri": "https://localhost:8080/"
        },
        "id": "w6T0UpJtRhxO",
        "outputId": "d4191fec-3707-4b13-d7e3-6b1c4ee603fd"
      },
      "execution_count": null,
      "outputs": [
        {
          "output_type": "stream",
          "name": "stdout",
          "text": [
            "Enter three integers:8,6,1\n",
            "The sorted numbers are 1 6 8\n"
          ]
        }
      ]
    }
  ]
}