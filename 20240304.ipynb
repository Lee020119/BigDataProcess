{
  "nbformat": 4,
  "nbformat_minor": 0,
  "metadata": {
    "colab": {
      "provenance": []
    },
    "kernelspec": {
      "name": "python3",
      "display_name": "Python 3"
    },
    "language_info": {
      "name": "python"
    }
  },
  "cells": [
    {
      "cell_type": "code",
      "execution_count": null,
      "metadata": {
        "id": "y9VMMPtUVvbF",
        "colab": {
          "base_uri": "https://localhost:8080/"
        },
        "outputId": "783c4725-dce5-4c75-f5f1-94ea9df6feb6"
      },
      "outputs": [
        {
          "output_type": "stream",
          "name": "stdout",
          "text": [
            "Phthon\"偉傑\n",
            "Phthon'偉傑\n",
            "Phthon\\偉傑\n",
            "Phthon\t偉傑\n",
            "Phthon\n",
            "偉傑\n"
          ]
        }
      ],
      "source": [
        "print('Phthon\\\"偉傑')\n",
        "print('Phthon\\'偉傑')\n",
        "print('Phthon\\\\偉傑')\n",
        "#跳八格\n",
        "print('Phthon\\t偉傑')\n",
        "#跳行\n",
        "print('Phthon\\n偉傑')"
      ]
    },
    {
      "cell_type": "code",
      "source": [
        "s = input()\n",
        "print(s)\n",
        "\n",
        "a =input('Enter a number:')\n",
        "print(a)"
      ],
      "metadata": {
        "colab": {
          "base_uri": "https://localhost:8080/"
        },
        "id": "uyyruGCYW_qA",
        "outputId": "44e544ef-7c96-41b3-8a88-5db3517c983a"
      },
      "execution_count": null,
      "outputs": [
        {
          "output_type": "stream",
          "name": "stdout",
          "text": [
            "偉傑\n",
            "偉傑\n",
            "Enter a number:123\n",
            "123\n"
          ]
        }
      ]
    },
    {
      "cell_type": "code",
      "source": [
        "a = eval(input('Enter a number:'))\n",
        "a = a + 100\n",
        "print(a)\n",
        "\n",
        "b = int(input('Enter a number:'))\n",
        "b = b + 10\n",
        "print(b)"
      ],
      "metadata": {
        "colab": {
          "base_uri": "https://localhost:8080/"
        },
        "id": "qnNbGLMhYeK1",
        "outputId": "6d4db311-c6c7-47ee-b305-c1f8eba4003b"
      },
      "execution_count": null,
      "outputs": [
        {
          "output_type": "stream",
          "name": "stdout",
          "text": [
            "Enter a number:100\n",
            "200\n",
            "Enter a number:100\n",
            "110\n"
          ]
        }
      ]
    },
    {
      "cell_type": "code",
      "source": [
        "a,b = eval(input('Enter two numbers:'))\n",
        "print('a = %d. b = %d'%(a,b))"
      ],
      "metadata": {
        "colab": {
          "base_uri": "https://localhost:8080/"
        },
        "id": "JoabDYmOZbQK",
        "outputId": "6f241ab8-6973-4cba-b562-67971cf656e8"
      },
      "execution_count": null,
      "outputs": [
        {
          "output_type": "stream",
          "name": "stdout",
          "text": [
            "Enter two numbers:66 ,888\n",
            "a = 66. b = 888\n"
          ]
        }
      ]
    },
    {
      "cell_type": "code",
      "source": [
        "a = 100\n",
        "# / 是除小數點\n",
        "b =a /3\n",
        "print(b)\n",
        "# //除出整數\n",
        "c =a //3\n",
        "print(c)\n",
        "# %是取余數\n",
        "f = a %3\n",
        "print(f)\n",
        "#**是次方\n",
        "d = a** 2\n",
        "print(d)\n",
        "e = a ** 0.5\n",
        "print(e)"
      ],
      "metadata": {
        "colab": {
          "base_uri": "https://localhost:8080/"
        },
        "id": "i5MDH2vxeRQu",
        "outputId": "45fa5031-4108-4fd5-b76b-626ea2b01362"
      },
      "execution_count": null,
      "outputs": [
        {
          "output_type": "stream",
          "name": "stdout",
          "text": [
            "33.333333333333336\n",
            "33\n",
            "1\n",
            "10000\n",
            "10.0\n"
          ]
        }
      ]
    },
    {
      "cell_type": "code",
      "source": [
        "a, b, c, d, e, f, g = eval(input('Enter 7 numbers:'))\n",
        "a += 2 #加\n",
        "b -= 2 #減\n",
        "c *= 2 #乘\n",
        "d /= 2 #除\n",
        "e //= 2 #\n",
        "f %= 2\n",
        "g **= 2\n",
        "print(a, b, c, d, e, f, g)"
      ],
      "metadata": {
        "colab": {
          "base_uri": "https://localhost:8080/"
        },
        "id": "cvSlYX9Ra68S",
        "outputId": "3287c6cb-d52a-4bcc-efa1-08d73c23c86b"
      },
      "execution_count": null,
      "outputs": [
        {
          "output_type": "stream",
          "name": "stdout",
          "text": [
            "Enter 7 numbers:100,100,100,100,100,100,100\n",
            "102 98 200 50.0 50 0 10000\n"
          ]
        }
      ]
    },
    {
      "cell_type": "code",
      "source": [
        "r = 5\n",
        "area = 3.14159 * r ** 2\n",
        "perimeter = 2 * 3.14159 * r\n",
        "\n",
        "print(\"Area:\", area)\n",
        "print(\"Perimeter:\", perimeter)"
      ],
      "metadata": {
        "colab": {
          "base_uri": "https://localhost:8080/"
        },
        "id": "1bvPxdssfJiZ",
        "outputId": "b54f385a-e9c3-4c1f-d101-277a9f635927"
      },
      "execution_count": null,
      "outputs": [
        {
          "output_type": "stream",
          "name": "stdout",
          "text": [
            "Area: 78.53975\n",
            "Perimeter: 31.4159\n"
          ]
        }
      ]
    },
    {
      "cell_type": "code",
      "source": [
        "import math\n",
        "math.pi\n"
      ],
      "metadata": {
        "colab": {
          "base_uri": "https://localhost:8080/"
        },
        "id": "paZ2TohMgLNP",
        "outputId": "fabb6288-c7c6-47d0-fcac-115b3e998ea7"
      },
      "execution_count": null,
      "outputs": [
        {
          "output_type": "execute_result",
          "data": {
            "text/plain": [
              "3.141592653589793"
            ]
          },
          "metadata": {},
          "execution_count": 47
        }
      ]
    },
    {
      "cell_type": "code",
      "source": [
        "import math\n",
        "math.e"
      ],
      "metadata": {
        "colab": {
          "base_uri": "https://localhost:8080/"
        },
        "id": "TsNfbyNlg0-I",
        "outputId": "a2ddd573-237c-4abc-a0d5-c40b5b9464c3"
      },
      "execution_count": null,
      "outputs": [
        {
          "output_type": "execute_result",
          "data": {
            "text/plain": [
              "2.718281828459045"
            ]
          },
          "metadata": {},
          "execution_count": 46
        }
      ]
    },
    {
      "cell_type": "code",
      "source": [
        "import math\n",
        "area = math.pi * r ** 2\n",
        "perimeter = 2 * math.pi * r\n",
        "\n",
        "print(\"Area:\", area)\n",
        "print(\"Perimeter:\", perimeter)"
      ],
      "metadata": {
        "colab": {
          "base_uri": "https://localhost:8080/"
        },
        "id": "uH2iRA3uhBoT",
        "outputId": "c835dabb-9d2a-48a5-d885-33b839334c53"
      },
      "execution_count": null,
      "outputs": [
        {
          "output_type": "stream",
          "name": "stdout",
          "text": [
            "Area: 78.53981633974483\n",
            "Perimeter: 31.41592653589793\n"
          ]
        }
      ]
    },
    {
      "cell_type": "code",
      "source": [
        "import math\n",
        "a = (0)\n",
        "b = math.sin(math.pi/2)\n",
        "\n",
        "c = math.cos(math.pi/2)\n",
        "d = math.cos(0)\n",
        "print(a,b,c,d)"
      ],
      "metadata": {
        "colab": {
          "base_uri": "https://localhost:8080/"
        },
        "id": "D9zl-e_VhHZr",
        "outputId": "594d7053-9ea6-4300-962e-6400241bf712"
      },
      "execution_count": null,
      "outputs": [
        {
          "output_type": "stream",
          "name": "stdout",
          "text": [
            "0 1.0 6.123233995736766e-17 1.0\n"
          ]
        }
      ]
    },
    {
      "cell_type": "code",
      "source": [
        "import math\n",
        "s = 6.5\n",
        "area =(5*s**2) / (4*math.tan(math.pi/5))\n",
        "print(area)"
      ],
      "metadata": {
        "colab": {
          "base_uri": "https://localhost:8080/"
        },
        "id": "IFRr2dccyv6u",
        "outputId": "b9988f98-3360-439f-c228-77a0118494d4"
      },
      "execution_count": null,
      "outputs": [
        {
          "output_type": "stream",
          "name": "stdout",
          "text": [
            "72.69017017488385\n"
          ]
        }
      ]
    },
    {
      "cell_type": "code",
      "source": [
        "import math\n",
        "n = 10\n",
        "s = 6.5\n",
        "area =(n*s**2) / (4*math.tan(math.pi/n))\n",
        "\n",
        "print(area)"
      ],
      "metadata": {
        "colab": {
          "base_uri": "https://localhost:8080/"
        },
        "id": "YRgWDNeTzAIU",
        "outputId": "bc3cdc4e-3c7b-40db-844f-7938d970c380"
      },
      "execution_count": null,
      "outputs": [
        {
          "output_type": "stream",
          "name": "stdout",
          "text": [
            "325.0803236141362\n"
          ]
        }
      ]
    },
    {
      "cell_type": "code",
      "source": [
        "#絕對值\n",
        "a = abs(-100)\n",
        "#最大值\n",
        "b = max(11,33,55,99)\n",
        "#最小值\n",
        "c = min(11,22,44,66)\n",
        "#計算X的Y平方\n",
        "d = pow(2,10)\n",
        "#小數點進退位\n",
        "e1 = round(5.6)\n",
        "e2 = round(5.2)\n",
        "e3 = round(4.6)\n",
        "e4 = round(4.5)\n",
        "#,過後數字是取位數\n",
        "f1 = round(123.456,2)\n",
        "f2 = round(123.456,1)\n",
        "\n",
        "print('-100絕對值是',a)\n",
        "print('11,33,55,99最大值是',b)\n",
        "print('11,22,44,99最小值是',c)\n",
        "print('2的10平方是',d)\n",
        "print('5.6 ,5.2 ,4.6 ,4.5的整數分別是',e1,e2,e3,e4)\n",
        "print('123.456取整數和小数点后二位是',f1)\n",
        "print('123.456取整數和小数点后一位是',f2)"
      ],
      "metadata": {
        "colab": {
          "base_uri": "https://localhost:8080/"
        },
        "id": "CKaUqa2Iz8MH",
        "outputId": "382339d9-5060-42bb-94cf-18af1df57afb"
      },
      "execution_count": null,
      "outputs": [
        {
          "output_type": "stream",
          "name": "stdout",
          "text": [
            "-100絕對值是 100\n",
            "11,33,55,99最大值是 99\n",
            "11,22,44,99最小值是 11\n",
            "2的10平方是 1024\n",
            "5.6 ,5.2 ,4.6 ,4.5的整數分別是 6 5 5 4\n",
            "123.456取整數和小数点后二位是 123.46\n",
            "123.456取整數和小数点后一位是 123.5\n"
          ]
        }
      ]
    }
  ]
}