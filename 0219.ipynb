{
  "nbformat": 4,
  "nbformat_minor": 0,
  "metadata": {
    "colab": {
      "provenance": []
    },
    "kernelspec": {
      "name": "python3",
      "display_name": "Python 3"
    },
    "language_info": {
      "name": "python"
    }
  },
  "cells": [
    {
      "cell_type": "code",
      "execution_count": null,
      "metadata": {
        "colab": {
          "base_uri": "https://localhost:8080/"
        },
        "id": "t8SPUV38Ag8J",
        "outputId": "3fb2cd22-9257-4b7b-c83f-b1675cf72239"
      },
      "outputs": [
        {
          "output_type": "stream",
          "name": "stdout",
          "text": [
            "    123.45\n",
            "  123\n",
            "   7b\n",
            "  173\n",
            "1111011\n"
          ]
        }
      ],
      "source": [
        "a = 123\n",
        "b = 123.45\n",
        "c = 'Python'\n",
        "\n",
        "#print(a)\n",
        "#print(b)\n",
        "#print(c)\n",
        "\n",
        "#print('a = ',a)\n",
        "#print('b = ',b)\n",
        "#print('c = ',c)\n",
        "\n",
        "#print(a , end = ' ')\n",
        "#print(b , end = ' ')\n",
        "#print(c)\n",
        "\n",
        "#print(format(a,'5d'))\n",
        "print(format(b,'10.2f'))\n",
        "#print(format(c,'10s'))\n",
        "#print()\n",
        "\n",
        "#print(format(a,'<5d'))\n",
        "#print(format(b,'>10.2f'))\n",
        "#print(format(c,'^10s'))\n",
        "\n",
        "#print('|  %5d   |'%a)\n",
        "#print('|%10.2f|'%b)\n",
        "#print('|%-10s|'%c)\n",
        "\n",
        "print(format(a,'5d'))\n",
        "print(format(a,'5x'))\n",
        "print(format(a,'5o'))\n",
        "print(format(a,'5b'))"
      ]
    },
    {
      "cell_type": "code",
      "source": [
        "x=123\n",
        "y=123456\n",
        "z=12\n",
        "\n",
        "print(format(x,'8d'),format(y,'8d'),format(z,'8d'))\n",
        "print('%8d %8d %8d'(%x,%y,%z))"
      ],
      "metadata": {
        "colab": {
          "base_uri": "https://localhost:8080/",
          "height": 106
        },
        "id": "RodqvYIZKF6u",
        "outputId": "8e61ee65-473f-44bf-d70c-694ad159d1a9"
      },
      "execution_count": null,
      "outputs": [
        {
          "output_type": "error",
          "ename": "SyntaxError",
          "evalue": "invalid syntax (<ipython-input-39-453b4d723d03>, line 6)",
          "traceback": [
            "\u001b[0;36m  File \u001b[0;32m\"<ipython-input-39-453b4d723d03>\"\u001b[0;36m, line \u001b[0;32m6\u001b[0m\n\u001b[0;31m    print('%8d %8d %8d'(%x,%y,%z))\u001b[0m\n\u001b[0m                        ^\u001b[0m\n\u001b[0;31mSyntaxError\u001b[0m\u001b[0;31m:\u001b[0m invalid syntax\n"
          ]
        }
      ]
    }
  ]
}