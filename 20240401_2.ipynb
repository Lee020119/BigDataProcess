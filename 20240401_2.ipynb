{
  "nbformat": 4,
  "nbformat_minor": 0,
  "metadata": {
    "colab": {
      "provenance": []
    },
    "kernelspec": {
      "name": "python3",
      "display_name": "Python 3"
    },
    "language_info": {
      "name": "python"
    }
  },
  "cells": [
    {
      "cell_type": "code",
      "execution_count": null,
      "metadata": {
        "colab": {
          "base_uri": "https://localhost:8080/"
        },
        "id": "xxVu6C4qH_it",
        "outputId": "22d05710-8132-4a9d-ac74-a69182fe6513"
      },
      "outputs": [
        {
          "output_type": "stream",
          "name": "stdout",
          "text": [
            "22 6 98 78 43 54 10 30 7 38 13 66 35 96 39 6 5 8 75 21 73 89 73 62 31 20 84 77 81 98 47 40 62 83 49 29 9 14 5 50 58 23 37 34 87 99 53 5 1 82 98 76 53 59 68 76 82 42 98 46 98 97 18 6 7 34 90 29 53 36 65 37 17 48 99 4 64 46 23 7 9 69 73 94 65 40 16 51 64 13 59 48 3 92 28 41 7 37 3 32 \n",
            "times3 = 28, times5 = 14 , times7 = 17\n",
            "others = 48\n"
          ]
        }
      ],
      "source": [
        "import random\n",
        "times = 0\n",
        "times3 = 0\n",
        "times5 = 0\n",
        "times7 = 0\n",
        "others = 0\n",
        "for i in range(1, 101):\n",
        "    flag = False\n",
        "    randNum = random.randint(1,100)\n",
        "    print(randNum, end = ' ')\n",
        "    if randNum % 3 == 0:\n",
        "        times3 += 1\n",
        "        flag =True\n",
        "    if randNum % 5 == 0:\n",
        "        times5 += 1\n",
        "        flag =True\n",
        "    if randNum % 7 == 0:\n",
        "        times7 += 1\n",
        "        flag =True\n",
        "    if flag == False:\n",
        "        others += 1\n",
        "print('\\ntimes3 = %d, times5 = %d , times7 = %d'%(times3,times5,times7))\n",
        "print('others = %d'%(others))\n"
      ]
    },
    {
      "cell_type": "code",
      "source": [
        "import random\n",
        "\n",
        "count = 1\n",
        "for i in range(1,101):\n",
        "    randNum = random.randint(1,100)\n",
        "    if count % 10 != 0:\n",
        "        print('%5d'%(randNum), end = ' ')\n",
        "    else:\n",
        "        print('%5d'%(randNum))\n",
        "    count += 1\n",
        "\n",
        "#print('\\ntimes3 = %d, times5 = %d , times7 = %d'%(times3,times5,times7))\n",
        "#print('others = %d'%(others))"
      ],
      "metadata": {
        "colab": {
          "base_uri": "https://localhost:8080/"
        },
        "id": "YFMaHo24Rstg",
        "outputId": "058a3bb8-6e5c-441a-ae4c-bdc099545c84"
      },
      "execution_count": null,
      "outputs": [
        {
          "output_type": "stream",
          "name": "stdout",
          "text": [
            "   14    77    16    89    77    44    45    82    63     3\n",
            "   69    60    94    77     2    98    31    73    58    23\n",
            "   95     6    33    20    17    27    89    78    60    44\n",
            "   36    82    33     6    36    17    19    73    91    42\n",
            "   74    37    92    39     2    73    88    13    48    67\n",
            "   30    94    79    96    49    82    16    11    63    30\n",
            "   61    87    96    63    98    54    49    19    44    22\n",
            "   71    13    38    91    13    78    56    32     5    13\n",
            "   93    27    45    68    92    21    91    31    90    85\n",
            "   37    36    60    16    86    84    43    67    24     5\n"
          ]
        }
      ]
    },
    {
      "cell_type": "code",
      "source": [
        "for i in range(1, 10):\n",
        "    for j in range(1, 10):\n",
        "        print(i, \"*\", j, \"=\", i*j)\n"
      ],
      "metadata": {
        "colab": {
          "base_uri": "https://localhost:8080/"
        },
        "id": "xq3daNEjY-zN",
        "outputId": "0df665fc-0613-443f-cd15-c9cc2e4f1ba0"
      },
      "execution_count": null,
      "outputs": [
        {
          "output_type": "stream",
          "name": "stdout",
          "text": [
            "1 * 1 = 1\n",
            "1 * 2 = 2\n",
            "1 * 3 = 3\n",
            "1 * 4 = 4\n",
            "1 * 5 = 5\n",
            "1 * 6 = 6\n",
            "1 * 7 = 7\n",
            "1 * 8 = 8\n",
            "1 * 9 = 9\n",
            "2 * 1 = 2\n",
            "2 * 2 = 4\n",
            "2 * 3 = 6\n",
            "2 * 4 = 8\n",
            "2 * 5 = 10\n",
            "2 * 6 = 12\n",
            "2 * 7 = 14\n",
            "2 * 8 = 16\n",
            "2 * 9 = 18\n",
            "3 * 1 = 3\n",
            "3 * 2 = 6\n",
            "3 * 3 = 9\n",
            "3 * 4 = 12\n",
            "3 * 5 = 15\n",
            "3 * 6 = 18\n",
            "3 * 7 = 21\n",
            "3 * 8 = 24\n",
            "3 * 9 = 27\n",
            "4 * 1 = 4\n",
            "4 * 2 = 8\n",
            "4 * 3 = 12\n",
            "4 * 4 = 16\n",
            "4 * 5 = 20\n",
            "4 * 6 = 24\n",
            "4 * 7 = 28\n",
            "4 * 8 = 32\n",
            "4 * 9 = 36\n",
            "5 * 1 = 5\n",
            "5 * 2 = 10\n",
            "5 * 3 = 15\n",
            "5 * 4 = 20\n",
            "5 * 5 = 25\n",
            "5 * 6 = 30\n",
            "5 * 7 = 35\n",
            "5 * 8 = 40\n",
            "5 * 9 = 45\n",
            "6 * 1 = 6\n",
            "6 * 2 = 12\n",
            "6 * 3 = 18\n",
            "6 * 4 = 24\n",
            "6 * 5 = 30\n",
            "6 * 6 = 36\n",
            "6 * 7 = 42\n",
            "6 * 8 = 48\n",
            "6 * 9 = 54\n",
            "7 * 1 = 7\n",
            "7 * 2 = 14\n",
            "7 * 3 = 21\n",
            "7 * 4 = 28\n",
            "7 * 5 = 35\n",
            "7 * 6 = 42\n",
            "7 * 7 = 49\n",
            "7 * 8 = 56\n",
            "7 * 9 = 63\n",
            "8 * 1 = 8\n",
            "8 * 2 = 16\n",
            "8 * 3 = 24\n",
            "8 * 4 = 32\n",
            "8 * 5 = 40\n",
            "8 * 6 = 48\n",
            "8 * 7 = 56\n",
            "8 * 8 = 64\n",
            "8 * 9 = 72\n",
            "9 * 1 = 9\n",
            "9 * 2 = 18\n",
            "9 * 3 = 27\n",
            "9 * 4 = 36\n",
            "9 * 5 = 45\n",
            "9 * 6 = 54\n",
            "9 * 7 = 63\n",
            "9 * 8 = 72\n",
            "9 * 9 = 81\n"
          ]
        }
      ]
    }
  ]
}