{
  "nbformat": 4,
  "nbformat_minor": 0,
  "metadata": {
    "colab": {
      "provenance": []
    },
    "kernelspec": {
      "name": "python3",
      "display_name": "Python 3"
    },
    "language_info": {
      "name": "python"
    }
  },
  "cells": [
    {
      "cell_type": "code",
      "execution_count": 1,
      "metadata": {
        "colab": {
          "base_uri": "https://localhost:8080/"
        },
        "id": "MLFC_yGe067L",
        "outputId": "6eb81677-bb61-4eaf-f574-3452c56931bb"
      },
      "outputs": [
        {
          "output_type": "stream",
          "name": "stdout",
          "text": [
            "  61   25   16   49   98   31    1   24   18   52 "
          ]
        }
      ],
      "source": [
        "import random\n",
        "for i in range(1,11):\n",
        "  randNum = random.randint(1,100)\n",
        "  print('%4d'%(randNum), end = ' ')"
      ]
    },
    {
      "cell_type": "code",
      "source": [
        "import random\n",
        "even = 0\n",
        "odd = 0\n",
        "for i in range (1,11):\n",
        "  randNum = random.randint(1,100)\n",
        "  print(randNum,end = ' ')\n",
        "  if randNum % 2 == 0:\n",
        "    even += 1\n",
        "  else:\n",
        "    odd += 1\n",
        "print('\\neven = %d, odd = %d'%(even, odd))"
      ],
      "metadata": {
        "colab": {
          "base_uri": "https://localhost:8080/"
        },
        "id": "N5mLX9Aq1mS8",
        "outputId": "a72b6f59-4c50-468a-93e3-a6afa0853338"
      },
      "execution_count": 2,
      "outputs": [
        {
          "output_type": "stream",
          "name": "stdout",
          "text": [
            "32 10 94 61 43 21 2 49 90 73 \n",
            "even = 5, odd = 5\n"
          ]
        }
      ]
    },
    {
      "cell_type": "code",
      "source": [
        "import random\n",
        "times3 = 0\n",
        "times5 = 0\n",
        "times7 = 0\n",
        "others = 0\n",
        "for i in range(1,101):\n",
        "  flag =False\n",
        "  randNum = random.randint(1,101)\n",
        "  print(randNum,end = ' ')\n",
        "  if randNum % 3 == 0:\n",
        "    times3 += 1\n",
        "    flag = True\n",
        "  if randNum % 5 == 0:\n",
        "    times5 += 1\n",
        "    flag = True\n",
        "  if randNum % 7 == 0:\n",
        "    times7 += 1\n",
        "    flag = True\n",
        "  if flag == False:\n",
        "    others += 1\n",
        "print('\\ntimes3 = %d, times5 = %d , times7 = %d'%(times3,times5,times7))\n",
        "print('others = %d'%(others))"
      ],
      "metadata": {
        "colab": {
          "base_uri": "https://localhost:8080/"
        },
        "id": "R_W6y1jJ7EXj",
        "outputId": "d34cbada-dfbb-46d1-ac35-a6a3bbb99c9c"
      },
      "execution_count": 3,
      "outputs": [
        {
          "output_type": "stream",
          "name": "stdout",
          "text": [
            "46 71 101 49 54 85 73 80 73 28 63 86 84 77 82 50 87 72 81 53 94 67 3 50 53 45 1 73 88 4 48 86 92 29 34 66 88 77 88 2 89 44 53 95 33 50 101 93 31 13 44 50 64 30 99 55 75 30 82 64 77 86 79 79 20 81 74 35 67 62 63 28 30 80 25 73 90 26 71 66 44 41 66 49 63 19 65 19 79 43 85 43 62 29 17 31 16 69 74 84 \n",
            "times3 = 25, times5 = 20 , times7 = 13\n",
            "others = 54\n"
          ]
        }
      ]
    }
  ]
}