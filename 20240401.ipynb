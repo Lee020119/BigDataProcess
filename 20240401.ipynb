{
  "nbformat": 4,
  "nbformat_minor": 0,
  "metadata": {
    "colab": {
      "provenance": []
    },
    "kernelspec": {
      "name": "python3",
      "display_name": "Python 3"
    },
    "language_info": {
      "name": "python"
    }
  },
  "cells": [
    {
      "cell_type": "code",
      "execution_count": null,
      "metadata": {
        "colab": {
          "base_uri": "https://localhost:8080/"
        },
        "id": "vyO1OUpYgDBa",
        "outputId": "af5c5165-b842-4acf-f732-6ab2e6e0b0b6"
      },
      "outputs": [
        {
          "output_type": "stream",
          "name": "stdout",
          "text": [
            "80 97 82 44 46 75 33 46 15 86 \n",
            " even = 6, odd = 4\n"
          ]
        }
      ],
      "source": [
        "import random\n",
        "even = 0\n",
        "odd = 0\n",
        "for i in range(1,11):\n",
        "  randNum = random.randint(1,100)\n",
        "  print(randNum,end = ' ')\n",
        "  #if randNum % 2 == 0:\n",
        "  #  even += 1\n",
        "  #else:\n",
        "  #  odd += 1\n",
        "  even += randNum % 2 == 0\n",
        "  odd += randNum % 2 != 0\n",
        "\n",
        "print('\\n even = %d, odd = %d'%(even, odd))\n"
      ]
    }
  ]
}